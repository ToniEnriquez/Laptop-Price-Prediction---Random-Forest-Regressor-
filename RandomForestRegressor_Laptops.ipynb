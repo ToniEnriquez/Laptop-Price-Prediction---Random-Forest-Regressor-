{
 "cells": [
  {
   "cell_type": "code",
   "execution_count": 1,
   "id": "unable-chase",
   "metadata": {},
   "outputs": [],
   "source": [
    "import pandas as pd\n",
    "import numpy as np\n",
    "import matplotlib.pyplot as plt\n",
    "import seaborn as sns\n",
    "\n",
    "from sklearn.preprocessing import LabelEncoder\n",
    "from sklearn.model_selection import train_test_split\n",
    "\n",
    "from sklearn.ensemble import RandomForestRegressor\n",
    "\n",
    "\n",
    "from sklearn.metrics import mean_squared_error\n",
    "from sklearn.metrics import r2_score\n",
    "randomstate=2000985"
   ]
  },
  {
   "cell_type": "code",
   "execution_count": 2,
   "id": "attractive-wound",
   "metadata": {},
   "outputs": [],
   "source": [
    "import re as re"
   ]
  },
  {
   "cell_type": "code",
   "execution_count": 3,
   "id": "collect-penguin",
   "metadata": {},
   "outputs": [],
   "source": [
    "def BoxAndBar(df, col, title, symb):\n",
    "    fig, ax = plt.subplots(2, 1, sharex=True, figsize=(8,5),gridspec_kw={\"height_ratios\": (.2, .8)})\n",
    "    ax[0].set_title(title,fontsize=18)\n",
    "    sns.boxplot(x=col, data=df, ax=ax[0])\n",
    "    ax[0].set(yticks=[])\n",
    "    sns.histplot(x=col, data=df, ax=ax[1])\n",
    "    ax[1].set_xlabel(col, fontsize=16)\n",
    "    plt.axvline(df[col].mean(), color='darkgreen', linewidth=2.2, label='mean=' + str(np.round(df[col].mean(),1)) + symb)\n",
    "    plt.axvline(df[col].median(), color='red', linewidth=2.2, label='median='+ str(np.round(df[col].median(),1)) + symb)\n",
    "    plt.axvline(df[col].mode()[0], color='purple', linewidth=2.2, label='mode='+ str(df[col].mode()[0]) + symb)\n",
    "    plt.legend(bbox_to_anchor=(1, 1.03), ncol=1, fontsize=17, fancybox=True, shadow=True, frameon=True)\n",
    "    plt.tight_layout()\n",
    "    plt.show()"
   ]
  },
  {
   "cell_type": "code",
   "execution_count": 4,
   "id": "electric-fleece",
   "metadata": {},
   "outputs": [],
   "source": [
    "from scipy import stats\n",
    "def lr_plot(df, col_x, col_y, leg):\n",
    "    slope, intercept, r_value, p_value, std_err = stats.linregress(df[col_x],df[col_y])\n",
    "    sns.regplot(x=col_x, y = col_y, data=df, color='#0d98ba', line_kws={'label':\"y={0:.1f}x+{1:.1f}\".format(slope,intercept)})\n",
    "    plt.legend(loc=leg, ncol=1, fontsize=15, fancybox=True, shadow=True, frameon=True)\n",
    "    plt.title(col_y + ' VS ' + col_x)\n",
    "    plt.show()\n",
    "\n",
    "    return slope, intercept"
   ]
  },
  {
   "cell_type": "markdown",
   "id": "liked-stamp",
   "metadata": {},
   "source": [
    "# IMPORTING THE CSV FILE FROM LAB 1"
   ]
  },
  {
   "cell_type": "code",
   "execution_count": 5,
   "id": "formed-pitch",
   "metadata": {},
   "outputs": [],
   "source": [
    "#Here I am importing the csv file i exported from lab 1!\n",
    "file=r\"C:\\Users\\Tonie\\Downloads\\laptop-clean.csv\" \n",
    "full_data=pd.read_csv(file, delimiter=\",\") \n",
    "your_data_clean=full_data #this is my dataset"
   ]
  },
  {
   "cell_type": "code",
   "execution_count": 6,
   "id": "unauthorized-product",
   "metadata": {},
   "outputs": [
    {
     "data": {
      "text/html": [
       "<div>\n",
       "<style scoped>\n",
       "    .dataframe tbody tr th:only-of-type {\n",
       "        vertical-align: middle;\n",
       "    }\n",
       "\n",
       "    .dataframe tbody tr th {\n",
       "        vertical-align: top;\n",
       "    }\n",
       "\n",
       "    .dataframe thead th {\n",
       "        text-align: right;\n",
       "    }\n",
       "</style>\n",
       "<table border=\"1\" class=\"dataframe\">\n",
       "  <thead>\n",
       "    <tr style=\"text-align: right;\">\n",
       "      <th></th>\n",
       "      <th>ID</th>\n",
       "      <th>Company</th>\n",
       "      <th>Product</th>\n",
       "      <th>Product_Model</th>\n",
       "      <th>Product_Series</th>\n",
       "      <th>TypeName</th>\n",
       "      <th>Inches</th>\n",
       "      <th>ScreenResolution</th>\n",
       "      <th>Cpu</th>\n",
       "      <th>Cpu_Brand</th>\n",
       "      <th>...</th>\n",
       "      <th>Memory</th>\n",
       "      <th>Memory_1</th>\n",
       "      <th>Memory_2</th>\n",
       "      <th>Gpu</th>\n",
       "      <th>Gpu_model</th>\n",
       "      <th>Gpu_Series</th>\n",
       "      <th>OpSys</th>\n",
       "      <th>Weight (Kg)</th>\n",
       "      <th>Price_euros</th>\n",
       "      <th>Weight_binned</th>\n",
       "    </tr>\n",
       "  </thead>\n",
       "  <tbody>\n",
       "    <tr>\n",
       "      <th>0</th>\n",
       "      <td>6</td>\n",
       "      <td>Acer</td>\n",
       "      <td>Aspire 3</td>\n",
       "      <td>Aspire</td>\n",
       "      <td>3</td>\n",
       "      <td>Notebook</td>\n",
       "      <td>15.6</td>\n",
       "      <td>1366x768</td>\n",
       "      <td>AMD A9-Series 9420 3GHz</td>\n",
       "      <td>AMD</td>\n",
       "      <td>...</td>\n",
       "      <td>500GB HDD</td>\n",
       "      <td>500GB</td>\n",
       "      <td>NaN</td>\n",
       "      <td>AMD Radeon R5</td>\n",
       "      <td>AMD</td>\n",
       "      <td>R5</td>\n",
       "      <td>Windows 10</td>\n",
       "      <td>2.1</td>\n",
       "      <td>400.0</td>\n",
       "      <td>1</td>\n",
       "    </tr>\n",
       "    <tr>\n",
       "      <th>1</th>\n",
       "      <td>9</td>\n",
       "      <td>Asus</td>\n",
       "      <td>ZenBook UX430UN</td>\n",
       "      <td>ZenBook</td>\n",
       "      <td>UX430UN</td>\n",
       "      <td>Ultrabook</td>\n",
       "      <td>14.0</td>\n",
       "      <td>Full HD 1920x1080</td>\n",
       "      <td>Intel Core i7 8550U 1.8GHz</td>\n",
       "      <td>Intel</td>\n",
       "      <td>...</td>\n",
       "      <td>512GB SSD</td>\n",
       "      <td>512GB</td>\n",
       "      <td>NaN</td>\n",
       "      <td>Nvidia GeForce MX150</td>\n",
       "      <td>Nvidia</td>\n",
       "      <td>MX150</td>\n",
       "      <td>Windows 10</td>\n",
       "      <td>1.3</td>\n",
       "      <td>1495.0</td>\n",
       "      <td>0</td>\n",
       "    </tr>\n",
       "    <tr>\n",
       "      <th>2</th>\n",
       "      <td>10</td>\n",
       "      <td>Acer</td>\n",
       "      <td>Swift 3</td>\n",
       "      <td>Swift</td>\n",
       "      <td>3</td>\n",
       "      <td>Ultrabook</td>\n",
       "      <td>14.0</td>\n",
       "      <td>IPS Panel Full HD 1920x1080</td>\n",
       "      <td>Intel Core i5 8250U 1.6GHz</td>\n",
       "      <td>Intel</td>\n",
       "      <td>...</td>\n",
       "      <td>256GB SSD</td>\n",
       "      <td>256GB</td>\n",
       "      <td>NaN</td>\n",
       "      <td>Intel UHD Graphics 620</td>\n",
       "      <td>Intel</td>\n",
       "      <td>620</td>\n",
       "      <td>Windows 10</td>\n",
       "      <td>1.6</td>\n",
       "      <td>770.0</td>\n",
       "      <td>0</td>\n",
       "    </tr>\n",
       "    <tr>\n",
       "      <th>3</th>\n",
       "      <td>14</td>\n",
       "      <td>Dell</td>\n",
       "      <td>Inspiron 3567</td>\n",
       "      <td>Inspiron</td>\n",
       "      <td>3567</td>\n",
       "      <td>Notebook</td>\n",
       "      <td>15.6</td>\n",
       "      <td>Full HD 1920x1080</td>\n",
       "      <td>Intel Core i3 6006U 2GHz</td>\n",
       "      <td>Intel</td>\n",
       "      <td>...</td>\n",
       "      <td>256GB SSD</td>\n",
       "      <td>256GB</td>\n",
       "      <td>NaN</td>\n",
       "      <td>AMD Radeon R5 M430</td>\n",
       "      <td>AMD</td>\n",
       "      <td>R5</td>\n",
       "      <td>Windows 10</td>\n",
       "      <td>2.2</td>\n",
       "      <td>498.9</td>\n",
       "      <td>1</td>\n",
       "    </tr>\n",
       "    <tr>\n",
       "      <th>4</th>\n",
       "      <td>17</td>\n",
       "      <td>Dell</td>\n",
       "      <td>Inspiron 3567</td>\n",
       "      <td>Inspiron</td>\n",
       "      <td>3567</td>\n",
       "      <td>Notebook</td>\n",
       "      <td>15.6</td>\n",
       "      <td>Full HD 1920x1080</td>\n",
       "      <td>Intel Core i7 7500U 2.7GHz</td>\n",
       "      <td>Intel</td>\n",
       "      <td>...</td>\n",
       "      <td>256GB SSD</td>\n",
       "      <td>256GB</td>\n",
       "      <td>NaN</td>\n",
       "      <td>AMD Radeon R5 M430</td>\n",
       "      <td>AMD</td>\n",
       "      <td>R5</td>\n",
       "      <td>Windows 10</td>\n",
       "      <td>2.2</td>\n",
       "      <td>745.0</td>\n",
       "      <td>1</td>\n",
       "    </tr>\n",
       "  </tbody>\n",
       "</table>\n",
       "<p>5 rows × 23 columns</p>\n",
       "</div>"
      ],
      "text/plain": [
       "   ID Company          Product Product_Model Product_Series   TypeName  \\\n",
       "0   6    Acer         Aspire 3        Aspire              3   Notebook   \n",
       "1   9    Asus  ZenBook UX430UN       ZenBook        UX430UN  Ultrabook   \n",
       "2  10    Acer          Swift 3         Swift              3  Ultrabook   \n",
       "3  14    Dell    Inspiron 3567      Inspiron           3567   Notebook   \n",
       "4  17    Dell    Inspiron 3567      Inspiron           3567   Notebook   \n",
       "\n",
       "   Inches             ScreenResolution                         Cpu Cpu_Brand  \\\n",
       "0    15.6                     1366x768     AMD A9-Series 9420 3GHz       AMD   \n",
       "1    14.0            Full HD 1920x1080  Intel Core i7 8550U 1.8GHz     Intel   \n",
       "2    14.0  IPS Panel Full HD 1920x1080  Intel Core i5 8250U 1.6GHz     Intel   \n",
       "3    15.6            Full HD 1920x1080    Intel Core i3 6006U 2GHz     Intel   \n",
       "4    15.6            Full HD 1920x1080  Intel Core i7 7500U 2.7GHz     Intel   \n",
       "\n",
       "   ...     Memory  Memory_1  Memory_2                     Gpu Gpu_model  \\\n",
       "0  ...  500GB HDD     500GB       NaN           AMD Radeon R5       AMD   \n",
       "1  ...  512GB SSD     512GB       NaN    Nvidia GeForce MX150    Nvidia   \n",
       "2  ...  256GB SSD     256GB       NaN  Intel UHD Graphics 620     Intel   \n",
       "3  ...  256GB SSD     256GB       NaN      AMD Radeon R5 M430       AMD   \n",
       "4  ...  256GB SSD     256GB       NaN      AMD Radeon R5 M430       AMD   \n",
       "\n",
       "  Gpu_Series       OpSys Weight (Kg) Price_euros Weight_binned  \n",
       "0         R5  Windows 10         2.1       400.0             1  \n",
       "1      MX150  Windows 10         1.3      1495.0             0  \n",
       "2        620  Windows 10         1.6       770.0             0  \n",
       "3         R5  Windows 10         2.2       498.9             1  \n",
       "4         R5  Windows 10         2.2       745.0             1  \n",
       "\n",
       "[5 rows x 23 columns]"
      ]
     },
     "execution_count": 6,
     "metadata": {},
     "output_type": "execute_result"
    }
   ],
   "source": [
    "your_data_clean.head()"
   ]
  },
  {
   "cell_type": "markdown",
   "id": "infinite-presentation",
   "metadata": {},
   "source": [
    "## DATA TRANSFORMATION"
   ]
  },
  {
   "cell_type": "markdown",
   "id": "attractive-westminster",
   "metadata": {},
   "source": [
    "#### 1. ScreenResolution"
   ]
  },
  {
   "cell_type": "code",
   "execution_count": 7,
   "id": "functioning-quantity",
   "metadata": {},
   "outputs": [],
   "source": [
    "#Here I am going to transform the ScreenResolution column!\n",
    "your_data_clean['Resolution'] = your_data_clean['ScreenResolution'].str.extract(r'(\\d+x\\d+)')\n",
    "your_data_clean['Screentype'] = your_data_clean['ScreenResolution'].replace(r'(\\d+x\\d+)','',regex=True)\n",
    "your_data_clean['Screentype'] = your_data_clean['Screentype'].replace(r'(Full HD|Quad HD|Quad HD|\\+|/|4K Ultra HD)','',regex=True)"
   ]
  },
  {
   "cell_type": "code",
   "execution_count": 8,
   "id": "smaller-kinase",
   "metadata": {},
   "outputs": [],
   "source": [
    "#Creating a new column called Touchscreen so we can check for the presence of a Touchscreen.\n",
    "your_data_clean['Touchscreen'] = your_data_clean['ScreenResolution'].str.extract(r'(Touchscreen)')\n",
    "#Replacing \"touchscreen\" values with nothing in ScreenType\n",
    "your_data_clean['Screentype'] = your_data_clean['Screentype'].replace(r'(Touchscreen)','',regex=True)"
   ]
  },
  {
   "cell_type": "code",
   "execution_count": 9,
   "id": "comparable-search",
   "metadata": {},
   "outputs": [],
   "source": [
    "#Here I replace 1=HAve touchscreen, 0=No Touchscreen\n",
    "your_data_clean['Touchscreen'] = your_data_clean['Touchscreen'].replace('Touchscreen',1)\n",
    "your_data_clean['Touchscreen'] = your_data_clean['Touchscreen'].replace(np.nan,0)"
   ]
  },
  {
   "cell_type": "code",
   "execution_count": 10,
   "id": "adapted-scholarship",
   "metadata": {},
   "outputs": [
    {
     "data": {
      "text/plain": [
       "IPSPanel                 318\n",
       "IPSPanelRetinaDisplay      1\n",
       "Name: Screentype, dtype: int64"
      ]
     },
     "execution_count": 10,
     "metadata": {},
     "output_type": "execute_result"
    }
   ],
   "source": [
    "your_data_clean['Screentype']=your_data_clean['Screentype'].replace(r' ','',regex=True)\n",
    "#Replacing the blank values with NaN!\n",
    "your_data_clean['Screentype'] = your_data_clean['Screentype'].replace(r'^\\s*$', np.nan, regex=True)\n",
    "your_data_clean['Screentype'].value_counts()"
   ]
  },
  {
   "cell_type": "code",
   "execution_count": 11,
   "id": "developed-correlation",
   "metadata": {},
   "outputs": [
    {
     "data": {
      "text/plain": [
       "1920x1080    737\n",
       "1366x768     224\n",
       "3840x2160     41\n",
       "3200x1800     25\n",
       "2560x1440     21\n",
       "1600x900      20\n",
       "2256x1504      6\n",
       "1920x1200      3\n",
       "2160x1440      2\n",
       "2736x1824      1\n",
       "Name: Resolution, dtype: int64"
      ]
     },
     "execution_count": 11,
     "metadata": {},
     "output_type": "execute_result"
    }
   ],
   "source": [
    "your_data_clean['Resolution'].value_counts()"
   ]
  },
  {
   "cell_type": "code",
   "execution_count": 12,
   "id": "challenging-perspective",
   "metadata": {},
   "outputs": [
    {
     "data": {
      "text/plain": [
       "0.0    902\n",
       "1.0    178\n",
       "Name: Touchscreen, dtype: int64"
      ]
     },
     "execution_count": 12,
     "metadata": {},
     "output_type": "execute_result"
    }
   ],
   "source": [
    "your_data_clean['Touchscreen'].value_counts()"
   ]
  },
  {
   "cell_type": "code",
   "execution_count": 13,
   "id": "bearing-departure",
   "metadata": {},
   "outputs": [],
   "source": [
    "#Here I drop ScreenResolution because I have already split it into three: Screentype, Touchscreen, and Resolution\n",
    "your_data_clean = your_data_clean.drop('ScreenResolution', axis=1)"
   ]
  },
  {
   "cell_type": "markdown",
   "id": "herbal-shareware",
   "metadata": {},
   "source": [
    "#### 2. Memory 1 and Memory 2"
   ]
  },
  {
   "cell_type": "code",
   "execution_count": 14,
   "id": "advance-zimbabwe",
   "metadata": {},
   "outputs": [
    {
     "data": {
      "text/plain": [
       "256 SSD                         353\n",
       "1000 HDD                        167\n",
       "512 SSD                         104\n",
       "500 HDD                         102\n",
       "128 SSD +  1000 HDD              89\n",
       "256 SSD +  1000 HDD              72\n",
       "128 SSD                          64\n",
       "32 Flash Storage                 28\n",
       "512 SSD +  1000 HDD              14\n",
       "1000 SSD                         14\n",
       "2000 HDD                         12\n",
       "64 Flash Storage                 10\n",
       "256 SSD +  2000 HDD               9\n",
       "1000 Hybrid                       7\n",
       "32 SSD                            5\n",
       "180 SSD                           4\n",
       "512 SSD +  2000 HDD               3\n",
       "256 SSD +  256 SSD                2\n",
       "256 Flash Storage                 2\n",
       "128 Flash Storage                 2\n",
       "128 SSD +  2000 HDD               2\n",
       "256 SSD +  500 HDD                2\n",
       "1000 SSD +  1000 HDD              2\n",
       "8 SSD                             1\n",
       "256 SSD +  1000 Hybrid            1\n",
       "1000 HDD +  1000 HDD              1\n",
       "512 SSD +  256 SSD                1\n",
       "32 HDD                            1\n",
       "64 Flash Storage +  1000 HDD      1\n",
       "128 HDD                           1\n",
       "64 SSD                            1\n",
       "240 SSD                           1\n",
       "512 SSD +  512 SSD                1\n",
       "512 SSD +  1000 Hybrid            1\n",
       "Name: Memory1, dtype: int64"
      ]
     },
     "execution_count": 14,
     "metadata": {},
     "output_type": "execute_result"
    }
   ],
   "source": [
    "your_data_clean['Memory1']=your_data_clean['Memory']\n",
    "your_data_clean['Memory1']=your_data_clean['Memory1'].str.replace('1.0TB','1TB', regex=True)\n",
    "your_data_clean['Memory1']=your_data_clean['Memory1'].str.replace('1TB','1000GB')\n",
    "your_data_clean['Memory1']=your_data_clean['Memory1'].str.replace('2TB','2000GB')\n",
    "your_data_clean['Memory1']=your_data_clean['Memory1'].str.replace('GB','')\n",
    "your_data_clean['Memory1'].value_counts()"
   ]
  },
  {
   "cell_type": "code",
   "execution_count": 15,
   "id": "burning-california",
   "metadata": {},
   "outputs": [],
   "source": [
    "#Taking away the space so I can separate them into two drives.\n",
    "your_data_clean['Memory2']=your_data_clean['Memory1'].str.replace(r' ','')"
   ]
  },
  {
   "cell_type": "code",
   "execution_count": 16,
   "id": "passing-pharmacy",
   "metadata": {},
   "outputs": [],
   "source": [
    "#Here I imported ReGex which helps me find the string I want to append! I am separating Memory2 into two lists!\n",
    "Memory1=[]\n",
    "Memory2=[]\n",
    "for i in your_data_clean['Memory2']:\n",
    "    if len(re.findall(r'\\+',i))==1: # It has 2 types of memory.\n",
    "        find=re.findall(r'(\\w+)',i)\n",
    "        Memory1.append(find[0])\n",
    "        Memory2.append(find[1])\n",
    "    else: # Only has one memory.\n",
    "        find=re.findall(r'(\\w+)',i)\n",
    "        Memory1.append(find[0])\n",
    "        Memory2.append('NaN')"
   ]
  },
  {
   "cell_type": "code",
   "execution_count": 17,
   "id": "built-principal",
   "metadata": {},
   "outputs": [],
   "source": [
    "#Here I am further creating two more lists to note the TYPE of the memory for Memory1 and the size!\n",
    "Memory1_GB=[]\n",
    "Memory1_Type=[]\n",
    "for i in Memory1:\n",
    "    Memory1_Type.append(re.findall(r'(\\D\\w+)',i)[0])\n",
    "    Memory1_GB.append(re.findall(r'(\\d+)',i)[0])"
   ]
  },
  {
   "cell_type": "code",
   "execution_count": 18,
   "id": "pretty-billy",
   "metadata": {},
   "outputs": [],
   "source": [
    "#Doing the same as above for Memory2!\n",
    "Memory2_GB=[]\n",
    "Memory2_Type=[]\n",
    "for i in Memory2:\n",
    "    if i != 'NaN':\n",
    "        Memory2_Type.append(re.findall(r'(\\D\\w+)',i)[0])\n",
    "        Memory2_GB.append(re.findall(r'(\\d+)',i)[0])\n",
    "    else:\n",
    "        Memory2_Type.append('NaN')\n",
    "        Memory2_GB.append(0)"
   ]
  },
  {
   "cell_type": "code",
   "execution_count": 19,
   "id": "placed-formation",
   "metadata": {},
   "outputs": [],
   "source": [
    "#Here I am turning the lists into columns!\n",
    "your_data_clean['Memory1_GB'] = Memory1_GB\n",
    "your_data_clean['Memory1_Type'] = Memory1_Type\n",
    "your_data_clean['Memory2_GB'] = Memory2_GB\n",
    "your_data_clean['Memory2_Type'] = Memory2_Type\n",
    "#Then I will convert the size columns into floats.\n",
    "your_data_clean['Memory1_GB'] = your_data_clean['Memory1_GB'].astype(float)\n",
    "your_data_clean['Memory2_GB'] = your_data_clean['Memory2_GB'].astype(float)"
   ]
  },
  {
   "cell_type": "code",
   "execution_count": 20,
   "id": "theoretical-witness",
   "metadata": {},
   "outputs": [
    {
     "data": {
      "text/plain": [
       "0.0       879\n",
       "1000.0    181\n",
       "2000.0     14\n",
       "256.0       3\n",
       "500.0       2\n",
       "512.0       1\n",
       "Name: Memory2_GB, dtype: int64"
      ]
     },
     "execution_count": 20,
     "metadata": {},
     "output_type": "execute_result"
    }
   ],
   "source": [
    "your_data_clean['Memory2_GB'].value_counts()"
   ]
  },
  {
   "cell_type": "code",
   "execution_count": 21,
   "id": "statewide-resistance",
   "metadata": {},
   "outputs": [
    {
     "data": {
      "text/plain": [
       "256.0     441\n",
       "1000.0    191\n",
       "128.0     158\n",
       "512.0     124\n",
       "500.0     102\n",
       "32.0       34\n",
       "64.0       12\n",
       "2000.0     12\n",
       "180.0       4\n",
       "8.0         1\n",
       "240.0       1\n",
       "Name: Memory1_GB, dtype: int64"
      ]
     },
     "execution_count": 21,
     "metadata": {},
     "output_type": "execute_result"
    }
   ],
   "source": [
    "your_data_clean['Memory1_GB'].value_counts()"
   ]
  },
  {
   "cell_type": "code",
   "execution_count": 22,
   "id": "musical-subject",
   "metadata": {},
   "outputs": [
    {
     "data": {
      "text/plain": [
       "NaN       879\n",
       "HDD       195\n",
       "SSD         4\n",
       "Hybrid      2\n",
       "Name: Memory2_Type, dtype: int64"
      ]
     },
     "execution_count": 22,
     "metadata": {},
     "output_type": "execute_result"
    }
   ],
   "source": [
    "your_data_clean['Memory2_Type'].value_counts()"
   ]
  },
  {
   "cell_type": "code",
   "execution_count": 23,
   "id": "illegal-citizenship",
   "metadata": {},
   "outputs": [
    {
     "data": {
      "text/plain": [
       "SSD             746\n",
       "HDD             284\n",
       "FlashStorage     43\n",
       "Hybrid            7\n",
       "Name: Memory1_Type, dtype: int64"
      ]
     },
     "execution_count": 23,
     "metadata": {},
     "output_type": "execute_result"
    }
   ],
   "source": [
    "your_data_clean['Memory1_Type'].value_counts()"
   ]
  },
  {
   "cell_type": "code",
   "execution_count": 24,
   "id": "other-milton",
   "metadata": {},
   "outputs": [],
   "source": [
    "#Here I will be deleting the other Memory tables. I have decided to do the above because the original Memory tables were\n",
    "#not properly separated! Refences is: Medium website.\n",
    "your_data_clean=your_data_clean.drop(['Memory1','Memory2','Memory', 'Memory_1', 'Memory_2'], axis=1)"
   ]
  },
  {
   "cell_type": "code",
   "execution_count": 25,
   "id": "romance-indie",
   "metadata": {},
   "outputs": [],
   "source": [
    "your_data_clean = your_data_clean.replace({'NaN': np.nan})"
   ]
  },
  {
   "cell_type": "code",
   "execution_count": 26,
   "id": "electoral-hudson",
   "metadata": {},
   "outputs": [
    {
     "data": {
      "text/html": [
       "<div>\n",
       "<style scoped>\n",
       "    .dataframe tbody tr th:only-of-type {\n",
       "        vertical-align: middle;\n",
       "    }\n",
       "\n",
       "    .dataframe tbody tr th {\n",
       "        vertical-align: top;\n",
       "    }\n",
       "\n",
       "    .dataframe thead th {\n",
       "        text-align: right;\n",
       "    }\n",
       "</style>\n",
       "<table border=\"1\" class=\"dataframe\">\n",
       "  <thead>\n",
       "    <tr style=\"text-align: right;\">\n",
       "      <th></th>\n",
       "      <th>ID</th>\n",
       "      <th>Company</th>\n",
       "      <th>Product</th>\n",
       "      <th>Product_Model</th>\n",
       "      <th>Product_Series</th>\n",
       "      <th>TypeName</th>\n",
       "      <th>Inches</th>\n",
       "      <th>Cpu</th>\n",
       "      <th>Cpu_Brand</th>\n",
       "      <th>Cpu_Model</th>\n",
       "      <th>...</th>\n",
       "      <th>Weight (Kg)</th>\n",
       "      <th>Price_euros</th>\n",
       "      <th>Weight_binned</th>\n",
       "      <th>Resolution</th>\n",
       "      <th>Screentype</th>\n",
       "      <th>Touchscreen</th>\n",
       "      <th>Memory1_GB</th>\n",
       "      <th>Memory1_Type</th>\n",
       "      <th>Memory2_GB</th>\n",
       "      <th>Memory2_Type</th>\n",
       "    </tr>\n",
       "  </thead>\n",
       "  <tbody>\n",
       "    <tr>\n",
       "      <th>0</th>\n",
       "      <td>6</td>\n",
       "      <td>Acer</td>\n",
       "      <td>Aspire 3</td>\n",
       "      <td>Aspire</td>\n",
       "      <td>3</td>\n",
       "      <td>Notebook</td>\n",
       "      <td>15.6</td>\n",
       "      <td>AMD A9-Series 9420 3GHz</td>\n",
       "      <td>AMD</td>\n",
       "      <td>A9-Series</td>\n",
       "      <td>...</td>\n",
       "      <td>2.1</td>\n",
       "      <td>400.0</td>\n",
       "      <td>1</td>\n",
       "      <td>1366x768</td>\n",
       "      <td>NaN</td>\n",
       "      <td>0.0</td>\n",
       "      <td>500.0</td>\n",
       "      <td>HDD</td>\n",
       "      <td>0.0</td>\n",
       "      <td>NaN</td>\n",
       "    </tr>\n",
       "    <tr>\n",
       "      <th>1</th>\n",
       "      <td>9</td>\n",
       "      <td>Asus</td>\n",
       "      <td>ZenBook UX430UN</td>\n",
       "      <td>ZenBook</td>\n",
       "      <td>UX430UN</td>\n",
       "      <td>Ultrabook</td>\n",
       "      <td>14.0</td>\n",
       "      <td>Intel Core i7 8550U 1.8GHz</td>\n",
       "      <td>Intel</td>\n",
       "      <td>i7</td>\n",
       "      <td>...</td>\n",
       "      <td>1.3</td>\n",
       "      <td>1495.0</td>\n",
       "      <td>0</td>\n",
       "      <td>1920x1080</td>\n",
       "      <td>NaN</td>\n",
       "      <td>0.0</td>\n",
       "      <td>512.0</td>\n",
       "      <td>SSD</td>\n",
       "      <td>0.0</td>\n",
       "      <td>NaN</td>\n",
       "    </tr>\n",
       "    <tr>\n",
       "      <th>2</th>\n",
       "      <td>10</td>\n",
       "      <td>Acer</td>\n",
       "      <td>Swift 3</td>\n",
       "      <td>Swift</td>\n",
       "      <td>3</td>\n",
       "      <td>Ultrabook</td>\n",
       "      <td>14.0</td>\n",
       "      <td>Intel Core i5 8250U 1.6GHz</td>\n",
       "      <td>Intel</td>\n",
       "      <td>i5</td>\n",
       "      <td>...</td>\n",
       "      <td>1.6</td>\n",
       "      <td>770.0</td>\n",
       "      <td>0</td>\n",
       "      <td>1920x1080</td>\n",
       "      <td>IPSPanel</td>\n",
       "      <td>0.0</td>\n",
       "      <td>256.0</td>\n",
       "      <td>SSD</td>\n",
       "      <td>0.0</td>\n",
       "      <td>NaN</td>\n",
       "    </tr>\n",
       "    <tr>\n",
       "      <th>3</th>\n",
       "      <td>14</td>\n",
       "      <td>Dell</td>\n",
       "      <td>Inspiron 3567</td>\n",
       "      <td>Inspiron</td>\n",
       "      <td>3567</td>\n",
       "      <td>Notebook</td>\n",
       "      <td>15.6</td>\n",
       "      <td>Intel Core i3 6006U 2GHz</td>\n",
       "      <td>Intel</td>\n",
       "      <td>i3</td>\n",
       "      <td>...</td>\n",
       "      <td>2.2</td>\n",
       "      <td>498.9</td>\n",
       "      <td>1</td>\n",
       "      <td>1920x1080</td>\n",
       "      <td>NaN</td>\n",
       "      <td>0.0</td>\n",
       "      <td>256.0</td>\n",
       "      <td>SSD</td>\n",
       "      <td>0.0</td>\n",
       "      <td>NaN</td>\n",
       "    </tr>\n",
       "    <tr>\n",
       "      <th>4</th>\n",
       "      <td>17</td>\n",
       "      <td>Dell</td>\n",
       "      <td>Inspiron 3567</td>\n",
       "      <td>Inspiron</td>\n",
       "      <td>3567</td>\n",
       "      <td>Notebook</td>\n",
       "      <td>15.6</td>\n",
       "      <td>Intel Core i7 7500U 2.7GHz</td>\n",
       "      <td>Intel</td>\n",
       "      <td>i7</td>\n",
       "      <td>...</td>\n",
       "      <td>2.2</td>\n",
       "      <td>745.0</td>\n",
       "      <td>1</td>\n",
       "      <td>1920x1080</td>\n",
       "      <td>NaN</td>\n",
       "      <td>0.0</td>\n",
       "      <td>256.0</td>\n",
       "      <td>SSD</td>\n",
       "      <td>0.0</td>\n",
       "      <td>NaN</td>\n",
       "    </tr>\n",
       "  </tbody>\n",
       "</table>\n",
       "<p>5 rows × 26 columns</p>\n",
       "</div>"
      ],
      "text/plain": [
       "   ID Company          Product Product_Model Product_Series   TypeName  \\\n",
       "0   6    Acer         Aspire 3        Aspire              3   Notebook   \n",
       "1   9    Asus  ZenBook UX430UN       ZenBook        UX430UN  Ultrabook   \n",
       "2  10    Acer          Swift 3         Swift              3  Ultrabook   \n",
       "3  14    Dell    Inspiron 3567      Inspiron           3567   Notebook   \n",
       "4  17    Dell    Inspiron 3567      Inspiron           3567   Notebook   \n",
       "\n",
       "   Inches                         Cpu Cpu_Brand  Cpu_Model  ...  Weight (Kg)  \\\n",
       "0    15.6     AMD A9-Series 9420 3GHz       AMD  A9-Series  ...          2.1   \n",
       "1    14.0  Intel Core i7 8550U 1.8GHz     Intel         i7  ...          1.3   \n",
       "2    14.0  Intel Core i5 8250U 1.6GHz     Intel         i5  ...          1.6   \n",
       "3    15.6    Intel Core i3 6006U 2GHz     Intel         i3  ...          2.2   \n",
       "4    15.6  Intel Core i7 7500U 2.7GHz     Intel         i7  ...          2.2   \n",
       "\n",
       "   Price_euros Weight_binned Resolution Screentype Touchscreen  Memory1_GB  \\\n",
       "0        400.0             1   1366x768        NaN         0.0       500.0   \n",
       "1       1495.0             0  1920x1080        NaN         0.0       512.0   \n",
       "2        770.0             0  1920x1080   IPSPanel         0.0       256.0   \n",
       "3        498.9             1  1920x1080        NaN         0.0       256.0   \n",
       "4        745.0             1  1920x1080        NaN         0.0       256.0   \n",
       "\n",
       "   Memory1_Type  Memory2_GB Memory2_Type  \n",
       "0           HDD         0.0          NaN  \n",
       "1           SSD         0.0          NaN  \n",
       "2           SSD         0.0          NaN  \n",
       "3           SSD         0.0          NaN  \n",
       "4           SSD         0.0          NaN  \n",
       "\n",
       "[5 rows x 26 columns]"
      ]
     },
     "execution_count": 26,
     "metadata": {},
     "output_type": "execute_result"
    }
   ],
   "source": [
    "your_data_clean.head()"
   ]
  },
  {
   "cell_type": "markdown",
   "id": "afraid-amsterdam",
   "metadata": {},
   "source": [
    "#### Data Transformation is done. I will now be removing other tables that I will not be using in the model :)"
   ]
  },
  {
   "cell_type": "code",
   "execution_count": 27,
   "id": "short-milan",
   "metadata": {},
   "outputs": [],
   "source": [
    "#Most of these columns have high cardinalities which would not be ideal for our model.\n",
    "your_data_clean=your_data_clean.drop(['Product_Series','Product_Model','ID', 'Weight_binned', 'Gpu_Series', 'Cpu_Model',\n",
    "                                      ], axis=1)"
   ]
  },
  {
   "cell_type": "code",
   "execution_count": 28,
   "id": "funky-reception",
   "metadata": {},
   "outputs": [
    {
     "data": {
      "text/plain": [
       "Company            object\n",
       "Product            object\n",
       "TypeName           object\n",
       "Inches            float64\n",
       "Cpu                object\n",
       "Cpu_Brand          object\n",
       "Cpu_Speed(GHz)    float64\n",
       "Ram (GB)            int64\n",
       "Gpu                object\n",
       "Gpu_model          object\n",
       "OpSys              object\n",
       "Weight (Kg)       float64\n",
       "Price_euros       float64\n",
       "Resolution         object\n",
       "Screentype         object\n",
       "Touchscreen       float64\n",
       "Memory1_GB        float64\n",
       "Memory1_Type       object\n",
       "Memory2_GB        float64\n",
       "Memory2_Type       object\n",
       "dtype: object"
      ]
     },
     "execution_count": 28,
     "metadata": {},
     "output_type": "execute_result"
    }
   ],
   "source": [
    "your_data_clean.dtypes"
   ]
  },
  {
   "cell_type": "markdown",
   "id": "cognitive-religion",
   "metadata": {},
   "source": [
    "## DATA MODELLING - Preparation"
   ]
  },
  {
   "cell_type": "code",
   "execution_count": 29,
   "id": "intensive-phoenix",
   "metadata": {},
   "outputs": [
    {
     "data": {
      "image/png": "[encoded data removed]",
      "text/plain": [
       "<Figure size 576x360 with 2 Axes>"
      ]
     },
     "metadata": {
      "needs_background": "light"
     },
     "output_type": "display_data"
    }
   ],
   "source": [
    "#I am using a custom made plot that makes it easier to see the distribution! I found this on Medium.\n",
    "BoxAndBar(your_data_clean, 'Price_euros', 'Price Distribution','$')"
   ]
  },
  {
   "cell_type": "code",
   "execution_count": 30,
   "id": "excess-madness",
   "metadata": {},
   "outputs": [],
   "source": [
    "#Because the graph is skewed towards the left, I will be log transforming it to balance it out!\n",
    "your_data_clean['Price_euros']=np.log(your_data_clean['Price_euros'])"
   ]
  },
  {
   "cell_type": "code",
   "execution_count": 31,
   "id": "boring-vertex",
   "metadata": {},
   "outputs": [
    {
     "data": {
      "image/png": "[encoded data removed]",
      "text/plain": [
       "<Figure size 576x360 with 2 Axes>"
      ]
     },
     "metadata": {
      "needs_background": "light"
     },
     "output_type": "display_data"
    }
   ],
   "source": [
    "#As you can see now, it is more balanced!\n",
    "BoxAndBar(your_data_clean, 'Price_euros', 'Price Distribution','$')"
   ]
  },
  {
   "cell_type": "code",
   "execution_count": 32,
   "id": "solid-kentucky",
   "metadata": {},
   "outputs": [
    {
     "data": {
      "image/png": "[encoded data removed]",
      "text/plain": [
       "<Figure size 720x360 with 1 Axes>"
      ]
     },
     "metadata": {
      "needs_background": "light"
     },
     "output_type": "display_data"
    }
   ],
   "source": [
    "fig, ax  = plt.subplots(figsize=(10,5))\n",
    "ax=sns.countplot(x='Inches', data=your_data_clean, palette='viridis_r')\n",
    "ax.set_xticklabels(ax.get_xticklabels(), rotation=80);\n",
    "plt.title('Laptop screen size (inches)')\n",
    "plt.show()"
   ]
  },
  {
   "cell_type": "code",
   "execution_count": 33,
   "id": "encouraging-purchase",
   "metadata": {},
   "outputs": [],
   "source": [
    "#From the graph above, we can see that these 6 values have the greater number of laptops.\n",
    "#I will only be keeping these 6 bars as they are the \"normal\"/\"more common\" sizes!\n",
    "InchesList = your_data_clean['Inches'].value_counts().index[:6].tolist()\n",
    "your_data_clean = your_data_clean[your_data_clean['Inches'].isin(InchesList)]"
   ]
  },
  {
   "cell_type": "code",
   "execution_count": 34,
   "id": "funded-contents",
   "metadata": {},
   "outputs": [
    {
     "data": {
      "text/plain": [
       "15.6    536\n",
       "14.0    173\n",
       "17.3    149\n",
       "13.3    148\n",
       "12.5     29\n",
       "11.6     20\n",
       "Name: Inches, dtype: int64"
      ]
     },
     "execution_count": 34,
     "metadata": {},
     "output_type": "execute_result"
    }
   ],
   "source": [
    "your_data_clean['Inches'].value_counts()"
   ]
  },
  {
   "cell_type": "code",
   "execution_count": 35,
   "id": "consolidated-satisfaction",
   "metadata": {},
   "outputs": [],
   "source": [
    "#Removing outlier for Ram because it only has 1 row with more than 60 GB.\n",
    "your_data_clean = your_data_clean[your_data_clean['Ram (GB)']<60]"
   ]
  },
  {
   "cell_type": "code",
   "execution_count": 36,
   "id": "ethical-wheat",
   "metadata": {
    "scrolled": true
   },
   "outputs": [
    {
     "data": {
      "image/png": "[encoded data removed]",
      "text/plain": [
       "<Figure size 432x288 with 1 Axes>"
      ]
     },
     "metadata": {
      "needs_background": "light"
     },
     "output_type": "display_data"
    }
   ],
   "source": [
    "slope, intercept = lr_plot(your_data_clean,'Ram (GB)','Price_euros', 'upper left')"
   ]
  },
  {
   "cell_type": "code",
   "execution_count": 37,
   "id": "stupid-glasgow",
   "metadata": {},
   "outputs": [],
   "source": [
    "your_data_clean=your_data_clean.fillna('NaN')"
   ]
  },
  {
   "cell_type": "markdown",
   "id": "duplicate-forth",
   "metadata": {},
   "source": [
    "## LABEL ENCODING"
   ]
  },
  {
   "cell_type": "code",
   "execution_count": 38,
   "id": "beneficial-newspaper",
   "metadata": {},
   "outputs": [],
   "source": [
    "CateCols =  ['Company','Product','TypeName','Cpu','Gpu','OpSys','Resolution','Screentype','Memory1_Type','Memory2_Type','Gpu_model','Cpu_Brand']"
   ]
  },
  {
   "cell_type": "code",
   "execution_count": 39,
   "id": "subsequent-blood",
   "metadata": {},
   "outputs": [
    {
     "name": "stdout",
     "output_type": "stream",
     "text": [
      "Dataframe encoded by OHE dimension :  (1054, 758)\n"
     ]
    }
   ],
   "source": [
    "#One hot encoding\n",
    "print('Dataframe encoded by OHE dimension : ', pd.get_dummies(your_data_clean, columns=CateCols, drop_first=True).shape)"
   ]
  },
  {
   "cell_type": "code",
   "execution_count": 40,
   "id": "thousand-keyboard",
   "metadata": {},
   "outputs": [
    {
     "name": "stdout",
     "output_type": "stream",
     "text": [
      "Dataframe encoded by Label encoding dimension :  (1054, 20)\n"
     ]
    }
   ],
   "source": [
    "#Label encoding\n",
    "en = LabelEncoder()\n",
    "for cols in CateCols:\n",
    "    your_data_clean[cols] = en.fit_transform(your_data_clean[cols])\n",
    "print('Dataframe encoded by Label encoding dimension : ', your_data_clean.shape)"
   ]
  },
  {
   "cell_type": "code",
   "execution_count": 41,
   "id": "overhead-prevention",
   "metadata": {},
   "outputs": [
    {
     "data": {
      "text/html": [
       "<div>\n",
       "<style scoped>\n",
       "    .dataframe tbody tr th:only-of-type {\n",
       "        vertical-align: middle;\n",
       "    }\n",
       "\n",
       "    .dataframe tbody tr th {\n",
       "        vertical-align: top;\n",
       "    }\n",
       "\n",
       "    .dataframe thead th {\n",
       "        text-align: right;\n",
       "    }\n",
       "</style>\n",
       "<table border=\"1\" class=\"dataframe\">\n",
       "  <thead>\n",
       "    <tr style=\"text-align: right;\">\n",
       "      <th></th>\n",
       "      <th>Company</th>\n",
       "      <th>Product</th>\n",
       "      <th>TypeName</th>\n",
       "      <th>Inches</th>\n",
       "      <th>Cpu</th>\n",
       "      <th>Cpu_Brand</th>\n",
       "      <th>Cpu_Speed(GHz)</th>\n",
       "      <th>Ram (GB)</th>\n",
       "      <th>Gpu</th>\n",
       "      <th>Gpu_model</th>\n",
       "      <th>OpSys</th>\n",
       "      <th>Weight (Kg)</th>\n",
       "      <th>Price_euros</th>\n",
       "      <th>Resolution</th>\n",
       "      <th>Screentype</th>\n",
       "      <th>Touchscreen</th>\n",
       "      <th>Memory1_GB</th>\n",
       "      <th>Memory1_Type</th>\n",
       "      <th>Memory2_GB</th>\n",
       "      <th>Memory2_Type</th>\n",
       "    </tr>\n",
       "  </thead>\n",
       "  <tbody>\n",
       "    <tr>\n",
       "      <th>0</th>\n",
       "      <td>0</td>\n",
       "      <td>53</td>\n",
       "      <td>3</td>\n",
       "      <td>15.6</td>\n",
       "      <td>13</td>\n",
       "      <td>0</td>\n",
       "      <td>3.0</td>\n",
       "      <td>4</td>\n",
       "      <td>11</td>\n",
       "      <td>0</td>\n",
       "      <td>0</td>\n",
       "      <td>2.1</td>\n",
       "      <td>5.991465</td>\n",
       "      <td>0</td>\n",
       "      <td>1</td>\n",
       "      <td>0.0</td>\n",
       "      <td>500.0</td>\n",
       "      <td>1</td>\n",
       "      <td>0.0</td>\n",
       "      <td>2</td>\n",
       "    </tr>\n",
       "    <tr>\n",
       "      <th>1</th>\n",
       "      <td>1</td>\n",
       "      <td>527</td>\n",
       "      <td>4</td>\n",
       "      <td>14.0</td>\n",
       "      <td>81</td>\n",
       "      <td>1</td>\n",
       "      <td>1.8</td>\n",
       "      <td>16</td>\n",
       "      <td>82</td>\n",
       "      <td>2</td>\n",
       "      <td>0</td>\n",
       "      <td>1.3</td>\n",
       "      <td>7.309881</td>\n",
       "      <td>2</td>\n",
       "      <td>1</td>\n",
       "      <td>0.0</td>\n",
       "      <td>512.0</td>\n",
       "      <td>3</td>\n",
       "      <td>0.0</td>\n",
       "      <td>2</td>\n",
       "    </tr>\n",
       "    <tr>\n",
       "      <th>2</th>\n",
       "      <td>0</td>\n",
       "      <td>379</td>\n",
       "      <td>4</td>\n",
       "      <td>14.0</td>\n",
       "      <td>63</td>\n",
       "      <td>1</td>\n",
       "      <td>1.6</td>\n",
       "      <td>8</td>\n",
       "      <td>48</td>\n",
       "      <td>1</td>\n",
       "      <td>0</td>\n",
       "      <td>1.6</td>\n",
       "      <td>6.646391</td>\n",
       "      <td>2</td>\n",
       "      <td>0</td>\n",
       "      <td>0.0</td>\n",
       "      <td>256.0</td>\n",
       "      <td>3</td>\n",
       "      <td>0.0</td>\n",
       "      <td>2</td>\n",
       "    </tr>\n",
       "    <tr>\n",
       "      <th>3</th>\n",
       "      <td>3</td>\n",
       "      <td>205</td>\n",
       "      <td>3</td>\n",
       "      <td>15.6</td>\n",
       "      <td>44</td>\n",
       "      <td>1</td>\n",
       "      <td>2.0</td>\n",
       "      <td>4</td>\n",
       "      <td>17</td>\n",
       "      <td>0</td>\n",
       "      <td>0</td>\n",
       "      <td>2.2</td>\n",
       "      <td>6.212406</td>\n",
       "      <td>2</td>\n",
       "      <td>1</td>\n",
       "      <td>0.0</td>\n",
       "      <td>256.0</td>\n",
       "      <td>3</td>\n",
       "      <td>0.0</td>\n",
       "      <td>2</td>\n",
       "    </tr>\n",
       "    <tr>\n",
       "      <th>4</th>\n",
       "      <td>3</td>\n",
       "      <td>205</td>\n",
       "      <td>3</td>\n",
       "      <td>15.6</td>\n",
       "      <td>72</td>\n",
       "      <td>1</td>\n",
       "      <td>2.7</td>\n",
       "      <td>8</td>\n",
       "      <td>17</td>\n",
       "      <td>0</td>\n",
       "      <td>0</td>\n",
       "      <td>2.2</td>\n",
       "      <td>6.613384</td>\n",
       "      <td>2</td>\n",
       "      <td>1</td>\n",
       "      <td>0.0</td>\n",
       "      <td>256.0</td>\n",
       "      <td>3</td>\n",
       "      <td>0.0</td>\n",
       "      <td>2</td>\n",
       "    </tr>\n",
       "  </tbody>\n",
       "</table>\n",
       "</div>"
      ],
      "text/plain": [
       "   Company  Product  TypeName  Inches  Cpu  Cpu_Brand  Cpu_Speed(GHz)  \\\n",
       "0        0       53         3    15.6   13          0             3.0   \n",
       "1        1      527         4    14.0   81          1             1.8   \n",
       "2        0      379         4    14.0   63          1             1.6   \n",
       "3        3      205         3    15.6   44          1             2.0   \n",
       "4        3      205         3    15.6   72          1             2.7   \n",
       "\n",
       "   Ram (GB)  Gpu  Gpu_model  OpSys  Weight (Kg)  Price_euros  Resolution  \\\n",
       "0         4   11          0      0          2.1     5.991465           0   \n",
       "1        16   82          2      0          1.3     7.309881           2   \n",
       "2         8   48          1      0          1.6     6.646391           2   \n",
       "3         4   17          0      0          2.2     6.212406           2   \n",
       "4         8   17          0      0          2.2     6.613384           2   \n",
       "\n",
       "   Screentype  Touchscreen  Memory1_GB  Memory1_Type  Memory2_GB  Memory2_Type  \n",
       "0           1          0.0       500.0             1         0.0             2  \n",
       "1           1          0.0       512.0             3         0.0             2  \n",
       "2           0          0.0       256.0             3         0.0             2  \n",
       "3           1          0.0       256.0             3         0.0             2  \n",
       "4           1          0.0       256.0             3         0.0             2  "
      ]
     },
     "execution_count": 41,
     "metadata": {},
     "output_type": "execute_result"
    }
   ],
   "source": [
    "your_data_clean.head()"
   ]
  },
  {
   "cell_type": "code",
   "execution_count": 42,
   "id": "statistical-function",
   "metadata": {},
   "outputs": [],
   "source": [
    "X=your_data_clean.drop('Price_euros', axis = 1)"
   ]
  },
  {
   "cell_type": "code",
   "execution_count": 43,
   "id": "optimum-apollo",
   "metadata": {},
   "outputs": [],
   "source": [
    "y=your_data_clean['Price_euros']"
   ]
  },
  {
   "cell_type": "code",
   "execution_count": 44,
   "id": "impaired-devil",
   "metadata": {},
   "outputs": [],
   "source": [
    "#X_train, X_test, y_train, y_test = train_test_split(X, y, test_size = 0.2, random_state = randomstate , shuffle=True)"
   ]
  },
  {
   "cell_type": "code",
   "execution_count": 45,
   "id": "provincial-pierre",
   "metadata": {},
   "outputs": [
    {
     "data": {
      "text/plain": [
       "((843, 19), (211, 19), (843,), (211,))"
      ]
     },
     "execution_count": 45,
     "metadata": {},
     "output_type": "execute_result"
    }
   ],
   "source": [
    "from sklearn.model_selection import train_test_split\n",
    "X_train, X_test, y_train, y_test = train_test_split(X, y,\n",
    "                                                    test_size=0.2, \n",
    "                                                    shuffle = True, random_state=randomstate)\n",
    "X_train.shape, X_test.shape, y_train.shape, y_test.shape"
   ]
  },
  {
   "cell_type": "code",
   "execution_count": 46,
   "id": "metallic-despite",
   "metadata": {},
   "outputs": [],
   "source": [
    "#rf = RandomForestRegressor(n_estimators=100, max_depth=100, max_features=15)"
   ]
  },
  {
   "cell_type": "code",
   "execution_count": 47,
   "id": "hollywood-annotation",
   "metadata": {},
   "outputs": [],
   "source": [
    "#rf.fit(X_train,y_train)"
   ]
  },
  {
   "cell_type": "code",
   "execution_count": 48,
   "id": "exact-elements",
   "metadata": {},
   "outputs": [],
   "source": [
    "#y_pred_rf = rf.predict(X_test)"
   ]
  },
  {
   "cell_type": "code",
   "execution_count": 49,
   "id": "quiet-movement",
   "metadata": {},
   "outputs": [],
   "source": [
    "#mse_rf = mean_squared_error(np.exp(y_test), np.exp(y_pred_rf))\n",
    "#print(\"RMSE using RF: {} $ \".format(np.round(np.sqrt(mse_rf)),4))"
   ]
  },
  {
   "cell_type": "code",
   "execution_count": 50,
   "id": "appreciated-claim",
   "metadata": {},
   "outputs": [],
   "source": [
    "#print(\"R2 using Random Forest: {:.2f} %\".format(np.round(r2_score(y_test, y_pred_rf),4)*100))"
   ]
  },
  {
   "cell_type": "code",
   "execution_count": 51,
   "id": "opposite-hunter",
   "metadata": {
    "scrolled": true
   },
   "outputs": [
    {
     "data": {
      "text/plain": [
       "426    6.459904\n",
       "710    7.494986\n",
       "726    7.207119\n",
       "841    7.207119\n",
       "92     6.111467\n",
       "         ...   \n",
       "989    6.538140\n",
       "525    7.506592\n",
       "107    6.400257\n",
       "141    6.700731\n",
       "654    7.972121\n",
       "Name: Price_euros, Length: 843, dtype: float64"
      ]
     },
     "execution_count": 51,
     "metadata": {},
     "output_type": "execute_result"
    }
   ],
   "source": [
    "y_train"
   ]
  },
  {
   "cell_type": "code",
   "execution_count": 52,
   "id": "warming-premises",
   "metadata": {},
   "outputs": [
    {
     "name": "stdout",
     "output_type": "stream",
     "text": [
      "0.9877975461585301\n",
      "0.906701106550375\n"
     ]
    }
   ],
   "source": [
    "from sklearn.ensemble import RandomForestRegressor\n",
    "rfr = RandomForestRegressor(random_state=randomstate, n_estimators=100, max_depth=100, max_features=15 )\n",
    "rfr_model=rfr.fit(X_train, y_train)\n",
    "print(rfr_model.score(X_train,y_train))\n",
    "print(rfr_model.score(X_test,y_test))"
   ]
  },
  {
   "cell_type": "code",
   "execution_count": 53,
   "id": "distinguished-inspector",
   "metadata": {},
   "outputs": [],
   "source": [
    "y_out_train_rfr = rfr_model.predict(X_train)"
   ]
  },
  {
   "cell_type": "code",
   "execution_count": 54,
   "id": "aboriginal-guest",
   "metadata": {},
   "outputs": [
    {
     "name": "stdout",
     "output_type": "stream",
     "text": [
      "0.0044868550597025325\n",
      "0.9877977897542327\n",
      "0.9877975461585301\n",
      "0.06698399107027389\n",
      "0.04957827714526678\n"
     ]
    }
   ],
   "source": [
    "from sklearn.metrics import explained_variance_score, mean_squared_error, r2_score\n",
    "from sklearn.metrics import mean_absolute_error\n",
    "print(mean_squared_error(y_train, y_out_train_rfr))\n",
    "print(explained_variance_score(y_train, y_out_train_rfr))\n",
    "print(r2_score(y_train, y_out_train_rfr)) #r2_score os same output as dtr_model\n",
    "print(mean_squared_error(y_train, y_out_train_rfr, squared = False))\n",
    "print(mean_absolute_error(y_train, y_out_train_rfr))"
   ]
  },
  {
   "cell_type": "code",
   "execution_count": 55,
   "id": "banned-stereo",
   "metadata": {},
   "outputs": [],
   "source": [
    "y_out_model_rfr = rfr_model.predict(X_test)"
   ]
  },
  {
   "cell_type": "code",
   "execution_count": 56,
   "id": "mobile-soviet",
   "metadata": {},
   "outputs": [
    {
     "name": "stdout",
     "output_type": "stream",
     "text": [
      "0.030798325628952437\n",
      "0.9067117477035539\n",
      "0.906701106550375\n",
      "0.1754945173757643\n"
     ]
    }
   ],
   "source": [
    "from sklearn.metrics import explained_variance_score, mean_squared_error, r2_score\n",
    "print(mean_squared_error(y_test, y_out_model_rfr))\n",
    "print(explained_variance_score(y_test, y_out_model_rfr))\n",
    "print(r2_score(y_test, y_out_model_rfr)) #r2_score os same output as dtr_model\n",
    "print(mean_squared_error(y_test, y_out_model_rfr, squared = False))"
   ]
  },
  {
   "cell_type": "code",
   "execution_count": 57,
   "id": "ahead-twist",
   "metadata": {},
   "outputs": [
    {
     "data": {
      "text/plain": [
       "1054"
      ]
     },
     "execution_count": 57,
     "metadata": {},
     "output_type": "execute_result"
    }
   ],
   "source": [
    "count_row = your_data_clean.shape[0]\n",
    "count_row"
   ]
  },
  {
   "cell_type": "code",
   "execution_count": 58,
   "id": "encouraging-daisy",
   "metadata": {},
   "outputs": [
    {
     "data": {
      "text/plain": [
       "0       13\n",
       "1       81\n",
       "2       63\n",
       "3       44\n",
       "4       72\n",
       "        ..\n",
       "1075    65\n",
       "1076    65\n",
       "1077    31\n",
       "1078    65\n",
       "1079    31\n",
       "Name: Cpu, Length: 1054, dtype: int32"
      ]
     },
     "execution_count": 58,
     "metadata": {},
     "output_type": "execute_result"
    }
   ],
   "source": [
    "your_data_clean['Cpu']"
   ]
  },
  {
   "cell_type": "code",
   "execution_count": 59,
   "id": "powerful-yemen",
   "metadata": {},
   "outputs": [],
   "source": [
    "feature_name_list=your_data_clean.drop('Price_euros', axis = 1).columns"
   ]
  },
  {
   "cell_type": "code",
   "execution_count": 60,
   "id": "boolean-partnership",
   "metadata": {},
   "outputs": [],
   "source": [
    "rfr.feature_names = feature_name_list"
   ]
  },
  {
   "cell_type": "code",
   "execution_count": 61,
   "id": "measured-physics",
   "metadata": {},
   "outputs": [
    {
     "data": {
      "text/plain": [
       "Text(0.5, 0, 'Feature Importance (%)')"
      ]
     },
     "execution_count": 61,
     "metadata": {},
     "output_type": "execute_result"
    },
    {
     "data": {
      "image/png": "[encoded data removed]",
      "text/plain": [
       "<Figure size 432x288 with 1 Axes>"
      ]
     },
     "metadata": {
      "needs_background": "light"
     },
     "output_type": "display_data"
    }
   ],
   "source": [
    "plt.barh(rfr.feature_names,rfr.feature_importances_)\n",
    "plt.xticks(rotation=90);\n",
    "plt.title('Feature Importance by Random Forest')\n",
    "plt.xlabel('Feature Importance (%)')"
   ]
  },
  {
   "cell_type": "code",
   "execution_count": 65,
   "id": "forty-sunday",
   "metadata": {},
   "outputs": [
    {
     "data": {
      "text/plain": [
       "Text(0.5, 1.0, 'Results')"
      ]
     },
     "execution_count": 65,
     "metadata": {},
     "output_type": "execute_result"
    },
    {
     "data": {
      "image/png": "[encoded data removed]",
      "text/plain": [
       "<Figure size 1296x432 with 1 Axes>"
      ]
     },
     "metadata": {
      "needs_background": "light"
     },
     "output_type": "display_data"
    }
   ],
   "source": [
    "plt.figure(figsize=(18,6))\n",
    "plt.plot(y_train.reset_index(drop=True), '-o', label = 'TrueValue')\n",
    "plt.plot(y_out_train_rfr + 0.03, '-o', label = 'dtc value')\n",
    "plt.xlim(190,200)\n",
    "plt.legend()\n",
    "plt.title('Results')"
   ]
  },
  {
   "cell_type": "code",
   "execution_count": null,
   "id": "removable-illustration",
   "metadata": {},
   "outputs": [],
   "source": []
  },
  {
   "cell_type": "code",
   "execution_count": 66,
   "id": "macro-scott",
   "metadata": {},
   "outputs": [
    {
     "data": {
      "text/plain": [
       "Text(0.5, 1.0, 'Results')"
      ]
     },
     "execution_count": 66,
     "metadata": {},
     "output_type": "execute_result"
    },
    {
     "data": {
      "image/png": "[encoded data removed]",
      "text/plain": [
       "<Figure size 1296x432 with 1 Axes>"
      ]
     },
     "metadata": {
      "needs_background": "light"
     },
     "output_type": "display_data"
    }
   ],
   "source": [
    "plt.figure(figsize=(18,6))\n",
    "plt.plot(y_test.reset_index(drop=True), '-o', label = 'TrueValue')\n",
    "plt.plot(y_out_model_rfr + 0.03, '-o', label = 'dtc value')\n",
    "plt.xlim(190,200)\n",
    "plt.legend()\n",
    "plt.title('Results')"
   ]
  },
  {
   "cell_type": "markdown",
   "id": "29111bc7",
   "metadata": {},
   "source": [
    "# Conclusion"
   ]
  },
  {
   "cell_type": "markdown",
   "id": "f5bef4d1",
   "metadata": {},
   "source": [
    "From our findings, we can see that RAM(GB) and the CPU are the ones that contribute mostly to the prices."
   ]
  }
 ],
 "metadata": {
  "kernelspec": {
   "display_name": "Python 3",
   "language": "python",
   "name": "python3"
  },
  "language_info": {
   "codemirror_mode": {
    "name": "ipython",
    "version": 3
   },
   "file_extension": ".py",
   "mimetype": "text/x-python",
   "name": "python",
   "nbconvert_exporter": "python",
   "pygments_lexer": "ipython3",
   "version": "3.8.5"
  }
 },
 "nbformat": 4,
 "nbformat_minor": 5
}
